{
 "cells": [
  {
   "cell_type": "markdown",
   "id": "7d6cb4ce-797b-456c-a602-a9325090cb03",
   "metadata": {},
   "source": [
    "# Data Science Tools and Ecosystem"
   ]
  },
  {
   "cell_type": "markdown",
   "id": "22cd616d-0a5e-4d40-883e-b5210ced70ec",
   "metadata": {},
   "source": [
    "## In this notebook, Data Science Tools and Ecosystem are summarized."
   ]
  },
  {
   "cell_type": "markdown",
   "id": "3e66ce12-08ca-475f-a89b-c057630e5361",
   "metadata": {},
   "source": [
    " __Objectives:__\n",
    " \n",
    "    * Some of the popular languages that Data Scientists\n",
    "    * Some of the commonly used libraries used by Data Scientists\n",
    "    * Data Science Tools\n",
    "    * examples of evaluating arithmetic expressions in Python\n",
    "    * a simple arithmetic expression to mutiply then add integer"
   ]
  },
  {
   "cell_type": "markdown",
   "id": "c575aa6b-bfad-4ea1-a817-08efbbabeb19",
   "metadata": {},
   "source": [
    "## Some of the popular languages that Data Scientists use are:\n",
    "    1.Python\n",
    "    2.R\n",
    "    3.SQL\n",
    "    4.Julia"
   ]
  },
  {
   "cell_type": "markdown",
   "id": "76f693dc-a5ad-4c54-ac89-fc1ceecffa1d",
   "metadata": {},
   "source": [
    "## Some of the commonly used libraries used by Data Scientists include:\n",
    "    1.pandas\n",
    "    2.numpy\n",
    "    3.matplotlib\n",
    "    4.ggplot2\t"
   ]
  },
  {
   "cell_type": "markdown",
   "id": "cdfe06d0-e89b-4f43-9d92-9b3feedd71ba",
   "metadata": {},
   "source": [
    "## Data Science Tools\n",
    "   | Data Science Tools |\n",
    "|--------------------|\n",
    "| Jupyter Notebook   |\n",
    "| RStudio            |\n",
    "| VS Code            |\n",
    "\n"
   ]
  },
  {
   "cell_type": "markdown",
   "id": "8603a023-7378-4a48-817c-a1157f4161fb",
   "metadata": {},
   "source": [
    "### Below are a few examples of evaluating arithmetic expressions in Python"
   ]
  },
  {
   "cell_type": "markdown",
   "id": "078c2ee3-f58f-41a9-929f-9b4a6f5d1792",
   "metadata": {},
   "source": [
    "This a simple arithmetic expression to mutiply then add integers"
   ]
  },
  {
   "cell_type": "code",
   "execution_count": 2,
   "id": "a4fb90f2-4a8f-482c-9c21-10709b835d40",
   "metadata": {},
   "outputs": [
    {
     "data": {
      "text/plain": [
       "17"
      ]
     },
     "execution_count": 2,
     "metadata": {},
     "output_type": "execute_result"
    }
   ],
   "source": [
    "(3*4)+5"
   ]
  },
  {
   "cell_type": "markdown",
   "id": "c3334616-034e-4f98-af2c-cfbd8f13a7d5",
   "metadata": {},
   "source": [
    "This will convert 200 minutes to hours by diving by 60\n"
   ]
  },
  {
   "cell_type": "code",
   "execution_count": 5,
   "id": "181f9c6e-c203-4ea1-9872-0399cdb90fae",
   "metadata": {},
   "outputs": [
    {
     "data": {
      "text/plain": [
       "3.3"
      ]
     },
     "execution_count": 5,
     "metadata": {},
     "output_type": "execute_result"
    }
   ],
   "source": [
    "round(200/60,1)\n"
   ]
  },
  {
   "cell_type": "markdown",
   "id": "791ee03e-9ce2-4bcd-991f-e3bd9999ed2a",
   "metadata": {},
   "source": [
    "## Author\n",
    "    mamoun al-hasan"
   ]
  },
  {
   "cell_type": "code",
   "execution_count": null,
   "id": "65ad66cc-ced6-4c41-85b5-041d34d71817",
   "metadata": {},
   "outputs": [],
   "source": []
  }
 ],
 "metadata": {
  "kernelspec": {
   "display_name": "Python 3 (ipykernel)",
   "language": "python",
   "name": "python3"
  },
  "language_info": {
   "codemirror_mode": {
    "name": "ipython",
    "version": 3
   },
   "file_extension": ".py",
   "mimetype": "text/x-python",
   "name": "python",
   "nbconvert_exporter": "python",
   "pygments_lexer": "ipython3",
   "version": "3.13.5"
  }
 },
 "nbformat": 4,
 "nbformat_minor": 5
}
